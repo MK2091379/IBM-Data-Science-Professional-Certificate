{
 "cells": [
  {
   "cell_type": "code",
   "execution_count": 20,
   "metadata": {},
   "outputs": [],
   "source": [
    "import psycopg2\n",
    "import pyodbc"
   ]
  },
  {
   "cell_type": "code",
   "execution_count": 21,
   "metadata": {},
   "outputs": [],
   "source": [
    "# Establish a connection to the database\n",
    "conn = psycopg2.connect(\n",
    "    dbname=\"INSTRUCTOR\",\n",
    "    user=\"postgres\",\n",
    "    password=\"1234\",\n",
    "    host=\"localhost\",\n",
    "    port=\"5432\"  # Default PostgreSQL port\n",
    ")"
   ]
  },
  {
   "cell_type": "code",
   "execution_count": 22,
   "metadata": {},
   "outputs": [],
   "source": [
    "# Create a cursor object using the connection\n",
    "cur = conn.cursor()"
   ]
  },
  {
   "cell_type": "code",
   "execution_count": 4,
   "metadata": {},
   "outputs": [],
   "source": [
    "# Example: Create a table\n",
    "cur.execute(\"\"\"\n",
    "CREATE TABLE IF NOT EXISTS my_table (\n",
    "    id SERIAL PRIMARY KEY,\n",
    "    name VARCHAR(100),\n",
    "    age INTEGER\n",
    ")\n",
    "\"\"\")"
   ]
  },
  {
   "cell_type": "code",
   "execution_count": 5,
   "metadata": {},
   "outputs": [],
   "source": [
    "# Example: Insert data into the table\n",
    "cur.execute(\"\"\"\n",
    "INSERT INTO my_table (name, age)\n",
    "VALUES (%s, %s)\n",
    "\"\"\", (\"Alice\", 30))"
   ]
  },
  {
   "cell_type": "code",
   "execution_count": 6,
   "metadata": {},
   "outputs": [],
   "source": [
    "# Commit the changes to the database\n",
    "conn.commit()"
   ]
  },
  {
   "cell_type": "code",
   "execution_count": 23,
   "metadata": {},
   "outputs": [
    {
     "name": "stdout",
     "output_type": "stream",
     "text": [
      "(1, 'Alice', 30)\n",
      "(2, 'Alice', 30)\n"
     ]
    }
   ],
   "source": [
    "# Example: Query data from the table\n",
    "cur.execute(\"SELECT * FROM my_table\")\n",
    "rows = cur.fetchall()\n",
    "for row in rows:\n",
    "    print(row)"
   ]
  },
  {
   "cell_type": "code",
   "execution_count": 28,
   "metadata": {},
   "outputs": [
    {
     "name": "stdout",
     "output_type": "stream",
     "text": [
      "Database Name: INSTRUCTOR\n",
      "DBMS Version: PostgreSQL 16.4, compiled by Visual C++ build 1940, 64-bit\n",
      "DBMS Name: ('INSTRUCTOR',)\n",
      "Tables:\n",
      "my_table\n",
      "\n",
      "Columns in my_table:\n",
      "('id', 'integer', 'NO')\n",
      "('age', 'integer', 'YES')\n",
      "('name', 'character varying', 'YES')\n",
      "\n",
      "Constraints in my_table:\n",
      "('my_table_pkey', 'PRIMARY KEY')\n",
      "('2200_16399_1_not_null', 'CHECK')\n"
     ]
    }
   ],
   "source": [
    "# Retrieve DBMS version\n",
    "cur.execute(\"SELECT version();\")\n",
    "dbms_version = cur.fetchone()\n",
    "# Retrieve database name\n",
    "cur.execute(\"SELECT current_database();\")\n",
    "db_name = cur.fetchone()\n",
    "# Retrieve DBMS name\n",
    "#dbms_name = \"PostgreSQL\"\n",
    "# Retrieve tables\n",
    "cur.execute(\"\"\"\n",
    "    SELECT table_name\n",
    "    FROM information_schema.tables\n",
    "    WHERE table_schema = 'public';\n",
    "\"\"\")\n",
    "tables = cur.fetchall()\n",
    "# Retrieve columns for a specific table\n",
    "table_name = 'my_table'\n",
    "cur.execute(f\"\"\"\n",
    "    SELECT column_name, data_type, is_nullable\n",
    "    FROM information_schema.columns\n",
    "    WHERE table_name = '{table_name}';\n",
    "\"\"\")\n",
    "columns = cur.fetchall()\n",
    "# Retrieve table constraints\n",
    "cur.execute(f\"\"\"\n",
    "    SELECT constraint_name, constraint_type\n",
    "    FROM information_schema.table_constraints\n",
    "    WHERE table_name = '{table_name}';\n",
    "\"\"\")\n",
    "constraints = cur.fetchall()\n",
    "\n",
    "\n",
    "print(f\"Database Name: {db_name[0]}\")\n",
    "print(f\"DBMS Version: {dbms_version[0]}\")\n",
    "print(f\"DBMS Name: {db_name}\")\n",
    "\n",
    "\n",
    "print(\"Tables:\")\n",
    "for table in tables:\n",
    "    print(table[0])\n",
    "print(f\"\\nColumns in {table_name}:\")\n",
    "for column in columns:\n",
    "    print(column)\n",
    "print(f\"\\nConstraints in {table_name}:\")\n",
    "for constraint in constraints:\n",
    "    print(constraint)"
   ]
  },
  {
   "cell_type": "code",
   "execution_count": 32,
   "metadata": {},
   "outputs": [],
   "source": [
    "# Close the cursor and connection\n",
    "cur.close()\n",
    "conn.close()"
   ]
  }
 ],
 "metadata": {
  "kernelspec": {
   "display_name": "base",
   "language": "python",
   "name": "python3"
  },
  "language_info": {
   "codemirror_mode": {
    "name": "ipython",
    "version": 3
   },
   "file_extension": ".py",
   "mimetype": "text/x-python",
   "name": "python",
   "nbconvert_exporter": "python",
   "pygments_lexer": "ipython3",
   "version": "3.11.7"
  }
 },
 "nbformat": 4,
 "nbformat_minor": 2
}
