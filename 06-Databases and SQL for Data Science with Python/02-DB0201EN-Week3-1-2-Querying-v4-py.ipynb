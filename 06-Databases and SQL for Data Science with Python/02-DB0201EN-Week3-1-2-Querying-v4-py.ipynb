{
 "cells": [
  {
   "cell_type": "code",
   "execution_count": 94,
   "metadata": {},
   "outputs": [],
   "source": [
    "import psycopg2\n",
    "import pandas as pd"
   ]
  },
  {
   "cell_type": "code",
   "execution_count": 79,
   "metadata": {},
   "outputs": [],
   "source": [
    "# Establish a connection to the database\n",
    "conn = psycopg2.connect(\n",
    "    dbname=\"INSTRUCTOR\",\n",
    "    user=\"postgres\",\n",
    "    password=\"1234\",\n",
    "    host=\"localhost\",\n",
    "    port=\"5432\"  # Default PostgreSQL port\n",
    ")"
   ]
  },
  {
   "cell_type": "code",
   "execution_count": 80,
   "metadata": {},
   "outputs": [],
   "source": [
    "# Create a cursor object using the connection\n",
    "cur = conn.cursor()"
   ]
  },
  {
   "cell_type": "code",
   "execution_count": 81,
   "metadata": {},
   "outputs": [],
   "source": [
    "# Example: Create a table\n",
    "cur.execute(\"\"\"\n",
    "CREATE TABLE IF NOT EXISTS instructor (\n",
    "    id INTEGER PRIMARY KEY NOT NULL,\n",
    "    fname VARCHAR(100),\n",
    "    lname VARCHAR(100),\n",
    "    city VARCHAR(100),\n",
    "    ccode CHARACTER(2)\n",
    ");\n",
    "\"\"\")"
   ]
  },
  {
   "cell_type": "code",
   "execution_count": 82,
   "metadata": {},
   "outputs": [],
   "source": [
    "# Commit the changes to the database\n",
    "conn.commit()"
   ]
  },
  {
   "cell_type": "code",
   "execution_count": null,
   "metadata": {},
   "outputs": [],
   "source": [
    "\n",
    "data_to_insert = [(2, \"Matin\",\"Kazemi\",\"Hidaj\",\"IR\"), (3, \"Amin\",\"Kazemi\",\"Hidaj\",\"IR\")]\n",
    "cur.executemany(\"\"\"\n",
    "INSERT INTO instructor (id,fname,lname,city,ccode)\n",
    "VALUES (%s,%s,%s,%s,%s)\n",
    "\"\"\",data_to_insert)"
   ]
  },
  {
   "cell_type": "code",
   "execution_count": 84,
   "metadata": {},
   "outputs": [],
   "source": [
    "# Commit the changes to the database\n",
    "conn.commit()"
   ]
  },
  {
   "cell_type": "code",
   "execution_count": 85,
   "metadata": {},
   "outputs": [
    {
     "name": "stdout",
     "output_type": "stream",
     "text": [
      "ID: 1 FirstName: Moein LastName: Kazemi City: Hidaj CityCode: IR\n",
      "ID: 2 FirstName: Matin LastName: Kazemi City: Hidaj CityCode: IR\n",
      "ID: 3 FirstName: Amin LastName: Kazemi City: Hidaj CityCode: IR\n"
     ]
    }
   ],
   "source": [
    "# Example: Query data from the table\n",
    "cur.execute(\"\"\"SELECT * FROM instructor\"\"\")\n",
    "rows = cur.fetchall()\n",
    "for row in rows:\n",
    "    print(\"ID:\",row[0],\"FirstName:\",row[1],\"LastName:\",row[2],\"City:\",row[3],\"CityCode:\",row[4])"
   ]
  },
  {
   "cell_type": "code",
   "execution_count": 86,
   "metadata": {},
   "outputs": [],
   "source": [
    "# Example: Update data in table\n",
    "cur.execute(\"\"\"UPDATE instructor SET fname = %s WHERE id = %s\"\"\",(\"Jackson\",1))\n",
    "conn.commit()"
   ]
  },
  {
   "cell_type": "code",
   "execution_count": 87,
   "metadata": {},
   "outputs": [
    {
     "name": "stdout",
     "output_type": "stream",
     "text": [
      "ID: 2 FirstName: Matin LastName: Kazemi City: Hidaj CityCode: IR\n",
      "ID: 3 FirstName: Amin LastName: Kazemi City: Hidaj CityCode: IR\n",
      "ID: 1 FirstName: Jackson LastName: Kazemi City: Hidaj CityCode: IR\n"
     ]
    }
   ],
   "source": [
    "# Example: Query data from the table\n",
    "cur.execute(\"\"\"SELECT * FROM instructor\"\"\")\n",
    "rows = cur.fetchall()\n",
    "for row in rows:\n",
    "    print(\"ID:\",row[0],\"FirstName:\",row[1],\"LastName:\",row[2],\"City:\",row[3],\"CityCode:\",row[4])"
   ]
  },
  {
   "cell_type": "code",
   "execution_count": 92,
   "metadata": {},
   "outputs": [],
   "source": [
    "# Example: Delete data in table\n",
    "cur.execute(\"\"\"DELETE FROM instructor WHERE id = %s\"\"\",(1,))\n",
    "conn.commit()"
   ]
  },
  {
   "cell_type": "code",
   "execution_count": 93,
   "metadata": {},
   "outputs": [
    {
     "name": "stdout",
     "output_type": "stream",
     "text": [
      "ID: 2 FirstName: Matin LastName: Kazemi City: Hidaj CityCode: IR\n",
      "ID: 3 FirstName: Amin LastName: Kazemi City: Hidaj CityCode: IR\n"
     ]
    }
   ],
   "source": [
    "# Example: Query data from the table\n",
    "cur.execute(\"\"\"SELECT * FROM instructor\"\"\")\n",
    "rows = cur.fetchall()\n",
    "for row in rows:\n",
    "    print(\"ID:\",row[0],\"FirstName:\",row[1],\"LastName:\",row[2],\"City:\",row[3],\"CityCode:\",row[4])"
   ]
  },
  {
   "cell_type": "code",
   "execution_count": 95,
   "metadata": {},
   "outputs": [
    {
     "name": "stderr",
     "output_type": "stream",
     "text": [
      "C:\\Users\\mkaze\\AppData\\Local\\Temp\\ipykernel_12220\\3960729798.py:2: UserWarning: pandas only supports SQLAlchemy connectable (engine/connection) or database string URI or sqlite3 DBAPI2 connection. Other DBAPI2 objects are not tested. Please consider using SQLAlchemy.\n",
      "  df = pd.read_sql_query(\"SELECT * FROM instructor\",conn)\n"
     ]
    },
    {
     "data": {
      "text/html": [
       "<div>\n",
       "<style scoped>\n",
       "    .dataframe tbody tr th:only-of-type {\n",
       "        vertical-align: middle;\n",
       "    }\n",
       "\n",
       "    .dataframe tbody tr th {\n",
       "        vertical-align: top;\n",
       "    }\n",
       "\n",
       "    .dataframe thead th {\n",
       "        text-align: right;\n",
       "    }\n",
       "</style>\n",
       "<table border=\"1\" class=\"dataframe\">\n",
       "  <thead>\n",
       "    <tr style=\"text-align: right;\">\n",
       "      <th></th>\n",
       "      <th>id</th>\n",
       "      <th>fname</th>\n",
       "      <th>lname</th>\n",
       "      <th>city</th>\n",
       "      <th>ccode</th>\n",
       "    </tr>\n",
       "  </thead>\n",
       "  <tbody>\n",
       "    <tr>\n",
       "      <th>0</th>\n",
       "      <td>2</td>\n",
       "      <td>Matin</td>\n",
       "      <td>Kazemi</td>\n",
       "      <td>Hidaj</td>\n",
       "      <td>IR</td>\n",
       "    </tr>\n",
       "    <tr>\n",
       "      <th>1</th>\n",
       "      <td>3</td>\n",
       "      <td>Amin</td>\n",
       "      <td>Kazemi</td>\n",
       "      <td>Hidaj</td>\n",
       "      <td>IR</td>\n",
       "    </tr>\n",
       "  </tbody>\n",
       "</table>\n",
       "</div>"
      ],
      "text/plain": [
       "   id  fname   lname   city ccode\n",
       "0   2  Matin  Kazemi  Hidaj    IR\n",
       "1   3   Amin  Kazemi  Hidaj    IR"
      ]
     },
     "execution_count": 95,
     "metadata": {},
     "output_type": "execute_result"
    }
   ],
   "source": [
    "# Retrieve data into Pandas\n",
    "df = pd.read_sql_query(\"SELECT * FROM instructor\",conn)\n",
    "df"
   ]
  },
  {
   "cell_type": "code",
   "execution_count": 96,
   "metadata": {},
   "outputs": [],
   "source": [
    "conn.close()"
   ]
  }
 ],
 "metadata": {
  "kernelspec": {
   "display_name": "base",
   "language": "python",
   "name": "python3"
  },
  "language_info": {
   "codemirror_mode": {
    "name": "ipython",
    "version": 3
   },
   "file_extension": ".py",
   "mimetype": "text/x-python",
   "name": "python",
   "nbconvert_exporter": "python",
   "pygments_lexer": "ipython3",
   "version": "3.11.7"
  }
 },
 "nbformat": 4,
 "nbformat_minor": 2
}
